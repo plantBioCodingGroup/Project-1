{
 "cells": [
  {
   "cell_type": "markdown",
   "metadata": {},
   "source": [
    "# PLB Coding Group\n",
    "## 4Mar19\n",
    "## Random motion\n",
    "\n",
    "Write a script that will randomly move a dot/\"rabbit\" along two axes within a specified area."
   ]
  },
  {
   "cell_type": "code",
   "execution_count": 1,
   "metadata": {},
   "outputs": [],
   "source": [
    "%matplotlib inline\n",
    "import matplotlib.pyplot as plt\n",
    "import numpy as np\n",
    "import math"
   ]
  },
  {
   "cell_type": "code",
   "execution_count": 2,
   "metadata": {},
   "outputs": [],
   "source": [
    "# Random movement function from CMSE 801\n",
    "\n",
    "np.random.seed(1)           # if you set seed with numpy, need to use numpy random integers\n",
    "\n",
    "def RandomWalk( K ):\n",
    "        \n",
    "    RandomWalk = 0\n",
    "    \n",
    "    movement = []\n",
    "    \n",
    "    for i in range(0,K+1):\n",
    "            \n",
    "        if np.random.randint(0,2) == 0:\n",
    "            RandomWalk = RandomWalk - 1\n",
    "    \n",
    "        if np.random.randint(0,2) == 1:\n",
    "            RandomWalk = RandomWalk + 1\n",
    "    \n",
    "        movement.append(RandomWalk)\n",
    "    \n",
    "    return movement"
   ]
  },
  {
   "cell_type": "code",
   "execution_count": 3,
   "metadata": {},
   "outputs": [
    {
     "data": {
      "text/plain": [
       "[1, 0, 1, 2, 2, 2, 2, 2, 2, 1, 1]"
      ]
     },
     "execution_count": 3,
     "metadata": {},
     "output_type": "execute_result"
    }
   ],
   "source": [
    "RandomWalk(10)"
   ]
  },
  {
   "cell_type": "code",
   "execution_count": 4,
   "metadata": {},
   "outputs": [
    {
     "data": {
      "image/png": "[encoded data removed]",
      "text/plain": [
       "<Figure size 432x288 with 1 Axes>"
      ]
     },
     "metadata": {},
     "output_type": "display_data"
    }
   ],
   "source": [
    "# test cell\n",
    "K = 100\n",
    "plt.plot(range(0,K+1), RandomWalk(K))\n",
    "plt.show()"
   ]
  },
  {
   "cell_type": "code",
   "execution_count": 5,
   "metadata": {},
   "outputs": [],
   "source": [
    "# Random movement in two directions\n",
    "\n",
    "def RandomWalk2( K ):\n",
    "    \n",
    "    # Initialize parameters\n",
    "    x_pos = 0\n",
    "    y_pos = 0\n",
    "    \n",
    "    x_direction = []\n",
    "    y_direction = []\n",
    "    \n",
    "    for k in range(0,K+1):                # 'for' loop over 'K' number of movements\n",
    "\n",
    "        if np.random.randint(0,5) == 0:   # if 0: no movement\n",
    "            x_pos = x_pos + 0\n",
    "            y_pos = y_pos + 0\n",
    "\n",
    "        if np.random.randint(0,5) == 1:   # if 1: move left\n",
    "            x_pos = x_pos - 1\n",
    "\n",
    "        if np.random.randint(0,5) == 2:   # if 2: move right\n",
    "            x_pos = x_pos + 1\n",
    "\n",
    "        if np.random.randint(0,5) == 3:   # if 3: move down\n",
    "            y_pos = y_pos - 1\n",
    "\n",
    "        if np.random.randint(0,5) == 4:   # if 4: move up\n",
    "            y_pos = y_pos + 1\n",
    "\n",
    "        x_direction.append(x_pos)         # add movement in x direction to a list\n",
    "        \n",
    "        y_direction.append(y_pos)         # add movement in y direction to a list\n",
    "    \n",
    "    return x_direction, y_direction"
   ]
  },
  {
   "cell_type": "code",
   "execution_count": 6,
   "metadata": {},
   "outputs": [
    {
     "data": {
      "image/png": "[encoded data removed]",
      "text/plain": [
       "<Figure size 432x288 with 1 Axes>"
      ]
     },
     "metadata": {},
     "output_type": "display_data"
    }
   ],
   "source": [
    "# test cell\n",
    "K = 300\n",
    "plt.plot(RandomWalk2(K)[0], RandomWalk2(K)[1])\n",
    "plt.show()"
   ]
  },
  {
   "cell_type": "code",
   "execution_count": 7,
   "metadata": {},
   "outputs": [],
   "source": [
    "# Random movement in two directions... working on a implementing a border\n",
    "\n",
    "def RandomWalk3( K, border ):\n",
    "    \n",
    "    # Initialize parameters\n",
    "    x_pos = 0\n",
    "    y_pos = 0\n",
    "    \n",
    "    x_direction = []\n",
    "    y_direction = []\n",
    "    \n",
    "#     while (x_pos and y_pos) < border:\n",
    "    \n",
    "#     while -border < x_pos | border > x_pos & (-border < y_pos | border > y_pos): #& abs(y_pos) < abs(border):\n",
    "        \n",
    "    for k in range(0,K):                # 'for' loop over 'K' number of movements\n",
    "            \n",
    "        if x_pos > border and y_pos > border:\n",
    "            continue\n",
    "            \n",
    "        if x_pos < -border and y_pos < -border:\n",
    "            continue\n",
    "            \n",
    "        if np.random.randint(0,5) == 0:   # if 0: no movement\n",
    "            x_pos = x_pos + 0\n",
    "            y_pos = y_pos + 0\n",
    "\n",
    "        if np.random.randint(0,5) == 1:   # if 1: move left\n",
    "            x_pos = x_pos - 1\n",
    "\n",
    "        if np.random.randint(0,5) == 2:   # if 2: move right\n",
    "            x_pos = x_pos + 1\n",
    "\n",
    "        if np.random.randint(0,5) == 3:   # if 3: move down\n",
    "            y_pos = y_pos - 1\n",
    "\n",
    "        if np.random.randint(0,5) == 4:   # if 4: move up\n",
    "            y_pos = y_pos + 1\n",
    "            \n",
    "        x_direction.append(x_pos)         # add movement in x direction to a list\n",
    "\n",
    "        y_direction.append(y_pos)         # add movement in y direction to a list\n",
    "        \n",
    "    return k, x_direction, y_direction\n",
    "    \n",
    "# To-do:\n",
    "# set borders\n",
    "# if movement has been in the same direction 3 times, cannot do that direction again"
   ]
  },
  {
   "cell_type": "code",
   "execution_count": 8,
   "metadata": {},
   "outputs": [],
   "source": [
    "# test cell\n"
   ]
  },
  {
   "cell_type": "code",
   "execution_count": 9,
   "metadata": {},
   "outputs": [],
   "source": [
    "# Random movement in two directions WITH A BORDER\n",
    "\n",
    "def RandomWalk4( num_movements, border ):\n",
    "    \n",
    "    # Initialize parameters\n",
    "    \n",
    "    x_pos = 0\n",
    "    y_pos = 0 \n",
    "    \n",
    "    x_direction = []\n",
    "    y_direction = []\n",
    "    \n",
    "    for trial in range(0, num_movements): # 'for' loop over number of movements\n",
    "            \n",
    "        if x_pos or y_pos == border:\n",
    "            continue\n",
    "\n",
    "        x_direction.append(x_pos)         # add movement in x direction to a list\n",
    "\n",
    "        y_direction.append(y_pos)         # add movement in y direction to a list \n",
    "        \n",
    "        direction = np.random.randint(0,5)\n",
    "        \n",
    "        if direction == 0:     # if 0: no movement\n",
    "            pass\n",
    "\n",
    "        elif direction == 1:   # if 1: move left\n",
    "            x_pos = x_pos - 1\n",
    "\n",
    "        elif direction == 2:   # if 2: move right\n",
    "            x_pos = x_pos + 1\n",
    "\n",
    "        elif direction == 3:   # if 3: move down\n",
    "            y_pos = y_pos - 1\n",
    "\n",
    "        elif direction == 4:   # if 4: move up\n",
    "            y_pos = y_pos + 1   \n",
    "        \n",
    "        \n",
    "        \n",
    "    return num_movements, border, x_direction, y_direction\n",
    "\n",
    "# To-do:\n",
    "# set borders\n",
    "# if movement has been in the same direction 3 times, cannot do that direction again"
   ]
  },
  {
   "cell_type": "code",
   "execution_count": 10,
   "metadata": {},
   "outputs": [
    {
     "name": "stdout",
     "output_type": "stream",
     "text": [
      "k trials: 5\n",
      "border: 5\n",
      "x_position: [0, 0, 0, 0, 0]\n",
      "y_position: [0, 1, 2, 3, 2]\n"
     ]
    },
    {
     "data": {
      "image/png": "[encoded data removed]",
      "text/plain": [
       "<Figure size 1368x360 with 3 Axes>"
      ]
     },
     "metadata": {},
     "output_type": "display_data"
    }
   ],
   "source": [
    "# test cell\n",
    "movements = 5\n",
    "test = RandomWalk4(movements,5)\n",
    "print(\"k trials:\", test[0])\n",
    "print(\"border:\", test[1])\n",
    "print(\"x_position:\",(test[2]))\n",
    "print(\"y_position:\",(test[3]))\n",
    "\n",
    "plt.figure(1, figsize=(19,5))\n",
    "\n",
    "plt.subplot(131)\n",
    "plt.plot(test[2], test[3], color='red')\n",
    "plt.title(\"trajectory in 2D space\")\n",
    "plt.subplot(132)\n",
    "plt.plot(range(0,movements), test[2], color='green')\n",
    "plt.title(\"x_position over time\")\n",
    "plt.subplot(133)\n",
    "plt.plot(range(0,movements), test[3], color='blue')\n",
    "plt.title(\"y_position over time\")\n",
    "\n",
    "plt.show()"
   ]
  },
  {
   "cell_type": "markdown",
   "metadata": {},
   "source": [
    "---\n",
    "### [Working with classes](https://realpython.com/python3-object-oriented-programming/)\n",
    "\n",
    "Class: empty form with attributes about an object  \n",
    "Object (Instance): filled in form with attributes about an object"
   ]
  },
  {
   "cell_type": "code",
   "execution_count": 2,
   "metadata": {},
   "outputs": [],
   "source": [
    "class Rabbit:\n",
    "    pass"
   ]
  },
  {
   "cell_type": "code",
   "execution_count": 3,
   "metadata": {},
   "outputs": [],
   "source": [
    "class Rabbit:\n",
    "    \n",
    "    # Initial Instance Attributes\n",
    "    def __init__(self, name, age):   # 'self' keeps track of individual instances (names) within a class (Rabbit)\n",
    "        self.name = name\n",
    "        self.age = age"
   ]
  },
  {
   "cell_type": "markdown",
   "metadata": {},
   "source": [
    "Instances are specific to each object  \n",
    "Class attributes are the same for all instances (ex. all Rabbits)"
   ]
  },
  {
   "cell_type": "code",
   "execution_count": 4,
   "metadata": {},
   "outputs": [],
   "source": [
    "class Rabbit:\n",
    "    \n",
    "    # Class Attribute\n",
    "    species = 'mammal'               # every rabbit will be a mammal\n",
    "    \n",
    "    # Initial Instance Attributes\n",
    "    def __init__(self, name, age):   # individual rabbits will have different names and ages\n",
    "        self.name = name\n",
    "        self.age = age"
   ]
  },
  {
   "cell_type": "markdown",
   "metadata": {},
   "source": [
    "#### Instantiating\n",
    "Create a new, unique instance of a class"
   ]
  },
  {
   "cell_type": "code",
   "execution_count": 19,
   "metadata": {},
   "outputs": [
    {
     "data": {
      "text/plain": [
       "False"
      ]
     },
     "execution_count": 19,
     "metadata": {},
     "output_type": "execute_result"
    }
   ],
   "source": [
    "class Rabbit:     # define a new Rabbit class\n",
    "    pass\n",
    "Rabbit()          # create two instances of a class\n",
    "Rabbit()\n",
    "a = Rabbit()      # instantiate two more instances and assign them to variables\n",
    "b = Rabbit()\n",
    "a == b"
   ]
  },
  {
   "cell_type": "code",
   "execution_count": 21,
   "metadata": {},
   "outputs": [
    {
     "name": "stdout",
     "output_type": "stream",
     "text": [
      "Frodo is 8 and Sammie is 7.\n",
      "Frodo is a mammal!\n"
     ]
    }
   ],
   "source": [
    "# More complex example\n",
    "\n",
    "class Rabbit:\n",
    "    \n",
    "    # Class Attribute\n",
    "    species = 'mammal'               # every rabbit will be a mammal\n",
    "    \n",
    "    # Initial Instance Attributes\n",
    "    def __init__(self, name, age):   # individual rabbits will have different names and ages\n",
    "        self.name = name\n",
    "        self.age = age\n",
    "        \n",
    "# Instantiate some Rabbit objects\n",
    "frodo = Rabbit(\"Frodo\", 8)           # create a new instance of Rabbit & assign it to 'frodo'\n",
    "sammie = Rabbit(\"Sammie\", 7)         # create a new instance of Rabbit & assign it to 'sammie'\n",
    "\n",
    "# Access the instance attributes\n",
    "print(\"{} is {} and {} is {}.\".format(\n",
    "    frodo.name, frodo.age, sammie.name, sammie.age))\n",
    "\n",
    "# Is Frodo a mammal?\n",
    "if frodo.species == \"mammal\":\n",
    "    print(\"{0} is a {1}!\".format(frodo.name, frodo.species))"
   ]
  },
  {
   "cell_type": "markdown",
   "metadata": {},
   "source": [
    "### Instance Methods\n",
    "\n",
    "Defined within a class.  \n",
    "First argument is always 'self'"
   ]
  },
  {
   "cell_type": "code",
   "execution_count": 22,
   "metadata": {},
   "outputs": [
    {
     "name": "stdout",
     "output_type": "stream",
     "text": [
      "Mikey is 6 years old\n",
      "Mikey says Gruff Gruff\n"
     ]
    }
   ],
   "source": [
    "class Dog:\n",
    "\n",
    "    # Class Attribute\n",
    "    species = 'mammal'\n",
    "\n",
    "    # Initializer / Instance Attributes\n",
    "    def __init__(self, name, age):\n",
    "        self.name = name\n",
    "        self.age = age\n",
    "\n",
    "    # instance method for description\n",
    "    def description(self):\n",
    "        return \"{} is {} years old\".format(self.name, self.age)\n",
    "\n",
    "    # instance method for speak\n",
    "    def speak(self, sound):\n",
    "        return \"{} says {}\".format(self.name, sound)\n",
    "\n",
    "# Instantiate the Dog object\n",
    "mikey = Dog(\"Mikey\", 6)\n",
    "\n",
    "# call our instance methods\n",
    "print(mikey.description())\n",
    "print(mikey.speak(\"Gruff Gruff\"))"
   ]
  },
  {
   "cell_type": "markdown",
   "metadata": {},
   "source": [
    "### Object inheritance\n",
    "\n",
    "one class takes the attributes and methods of another  \n",
    "newly formed 'child' classes come from the 'parent' classes"
   ]
  },
  {
   "cell_type": "markdown",
   "metadata": {},
   "source": [
    "### Dog Park Example\n",
    "\n",
    "multiple Dog objects with different attributes"
   ]
  },
  {
   "cell_type": "code",
   "execution_count": 25,
   "metadata": {},
   "outputs": [
    {
     "data": {
      "text/plain": [
       "'Pug'"
      ]
     },
     "execution_count": 25,
     "metadata": {},
     "output_type": "execute_result"
    }
   ],
   "source": [
    "class Dog:\n",
    "    def __init__(self, breed):\n",
    "        self.breed = breed\n",
    "        \n",
    "spencer = Dog(\"Poodle\")\n",
    "spencer.breed\n",
    "\n",
    "sara = Dog(\"Pug\")\n",
    "sara.breed"
   ]
  },
  {
   "cell_type": "code",
   "execution_count": 42,
   "metadata": {},
   "outputs": [],
   "source": [
    "# Parent class\n",
    "class Dog:\n",
    "\n",
    "    # Class attribute\n",
    "    species = 'mammal'\n",
    "\n",
    "    # Initializer / Instance attributes\n",
    "    def __init__(self, name, age):\n",
    "        self.name = name\n",
    "        self.age = age\n",
    "\n",
    "    # instance method\n",
    "    def description(self):\n",
    "        return \"{} is {} years old\".format(self.name, self.age)\n",
    "\n",
    "    # instance method\n",
    "    def speak(self, sound):\n",
    "        return \"{} says {}\".format(self.name, sound)"
   ]
  },
  {
   "cell_type": "code",
   "execution_count": 44,
   "metadata": {},
   "outputs": [
    {
     "name": "stdout",
     "output_type": "stream",
     "text": [
      "Jim is 12 years old\n",
      "Jim runs slowly\n"
     ]
    }
   ],
   "source": [
    "# Child class (inherits from Dog class)\n",
    "class RussellTerrier(Dog):\n",
    "    def run(self, speed):\n",
    "        return \"{} runs {}\".format(self.name, speed)\n",
    "\n",
    "\n",
    "# Child class (inherits from Dog class)\n",
    "class Bulldog(Dog):\n",
    "    def run(self, speed):\n",
    "        return f\"{self.name} runs {speed}\"\n",
    "\n",
    "# Child classes inherit attributes and behaviors from parent class\n",
    "jim = Bulldog(\"Jim\", 12)\n",
    "print(jim.description())\n",
    "\n",
    "# Child classes have specific attributes and behaviors as well\n",
    "print(jim.run(\"slowly\"))"
   ]
  },
  {
   "cell_type": "markdown",
   "metadata": {},
   "source": [
    "### Parent vs Child Classes\n",
    "\n",
    "isinstance() determines if an instance is also an instance of a certain parent class"
   ]
  },
  {
   "cell_type": "code",
   "execution_count": 30,
   "metadata": {},
   "outputs": [
    {
     "name": "stdout",
     "output_type": "stream",
     "text": [
      "True\n"
     ]
    }
   ],
   "source": [
    "# Is jim an instance of Dog()?\n",
    "print(isinstance(jim, Dog))"
   ]
  },
  {
   "cell_type": "code",
   "execution_count": 32,
   "metadata": {},
   "outputs": [
    {
     "name": "stdout",
     "output_type": "stream",
     "text": [
      "True\n"
     ]
    }
   ],
   "source": [
    "# Is julie an instance of Dog()?\n",
    "julie = Dog(\"Julie\", 100)\n",
    "print(isinstance(julie, Dog))"
   ]
  },
  {
   "cell_type": "code",
   "execution_count": 33,
   "metadata": {},
   "outputs": [
    {
     "name": "stdout",
     "output_type": "stream",
     "text": [
      "False\n"
     ]
    }
   ],
   "source": [
    "# Is steve an instance of Bulldog()?\n",
    "print(isinstance(steve, Bulldog))"
   ]
  },
  {
   "cell_type": "markdown",
   "metadata": {},
   "source": [
    "### Remember that child classes overwrite attributes from parent class"
   ]
  },
  {
   "cell_type": "code",
   "execution_count": 35,
   "metadata": {},
   "outputs": [],
   "source": [
    "class Dog:\n",
    "    species = 'mammal'\n",
    "    \n",
    "class SomeBreed(Dog):\n",
    "    pass\n",
    "\n",
    "class SomeOtherBreed(Dog):\n",
    "    species = 'reptile'"
   ]
  },
  {
   "cell_type": "code",
   "execution_count": 36,
   "metadata": {},
   "outputs": [
    {
     "data": {
      "text/plain": [
       "'mammal'"
      ]
     },
     "execution_count": 36,
     "metadata": {},
     "output_type": "execute_result"
    }
   ],
   "source": [
    "frank = SomeBreed()\n",
    "frank.species"
   ]
  },
  {
   "cell_type": "code",
   "execution_count": 37,
   "metadata": {},
   "outputs": [
    {
     "data": {
      "text/plain": [
       "'reptile'"
      ]
     },
     "execution_count": 37,
     "metadata": {},
     "output_type": "execute_result"
    }
   ],
   "source": [
    "beans = SomeOtherBreed\n",
    "beans.species"
   ]
  },
  {
   "cell_type": "code",
   "execution_count": null,
   "metadata": {},
   "outputs": [],
   "source": []
  }
 ],
 "metadata": {
  "kernelspec": {
   "display_name": "Python 3",
   "language": "python",
   "name": "python3"
  },
  "language_info": {
   "codemirror_mode": {
    "name": "ipython",
    "version": 3
   },
   "file_extension": ".py",
   "mimetype": "text/x-python",
   "name": "python",
   "nbconvert_exporter": "python",
   "pygments_lexer": "ipython3",
   "version": "3.6.5"
  }
 },
 "nbformat": 4,
 "nbformat_minor": 2
}
